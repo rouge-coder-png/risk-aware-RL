{
  "cells": [
    {
      "cell_type": "markdown",
      "source": [
        "# RARL for Fire Search and Rescue"
      ],
      "metadata": {
        "id": "fVD3NSc5StOk"
      }
    },
    {
      "cell_type": "markdown",
      "source": [
        "## Imports"
      ],
      "metadata": {
        "id": "9TBgtc7SS0zE"
      }
    },
    {
      "cell_type": "code",
      "execution_count": null,
      "metadata": {
        "id": "cZj2yypP2bSB",
        "colab": {
          "base_uri": "https://localhost:8080/"
        },
        "outputId": "c6e76eae-e1d2-4701-c7fb-003e23dec15d"
      },
      "outputs": [
        {
          "output_type": "stream",
          "name": "stdout",
          "text": [
            "\r0% [Working]\r            \rGet:1 https://cloud.r-project.org/bin/linux/ubuntu focal-cran40/ InRelease [3,622 B]\n",
            "Hit:2 https://developer.download.nvidia.com/compute/cuda/repos/ubuntu2004/x86_64  InRelease\n",
            "Hit:3 http://archive.ubuntu.com/ubuntu focal InRelease\n",
            "Get:4 http://security.ubuntu.com/ubuntu focal-security InRelease [114 kB]\n",
            "Get:5 http://ppa.launchpad.net/c2d4u.team/c2d4u4.0+/ubuntu focal InRelease [18.1 kB]\n",
            "Get:6 http://archive.ubuntu.com/ubuntu focal-updates InRelease [114 kB]\n",
            "Hit:7 http://ppa.launchpad.net/cran/libgit2/ubuntu focal InRelease\n",
            "Get:8 http://security.ubuntu.com/ubuntu focal-security/universe amd64 Packages [1,047 kB]\n",
            "Hit:9 http://ppa.launchpad.net/deadsnakes/ppa/ubuntu focal InRelease\n",
            "Get:10 http://archive.ubuntu.com/ubuntu focal-backports InRelease [108 kB]\n",
            "Get:11 http://archive.ubuntu.com/ubuntu focal-updates/main amd64 Packages [3,169 kB]\n",
            "Get:12 http://ppa.launchpad.net/graphics-drivers/ppa/ubuntu focal InRelease [24.3 kB]\n",
            "Get:13 http://security.ubuntu.com/ubuntu focal-security/main amd64 Packages [2,681 kB]\n",
            "Hit:14 http://ppa.launchpad.net/ubuntugis/ppa/ubuntu focal InRelease\n",
            "Get:15 http://archive.ubuntu.com/ubuntu focal-updates/restricted amd64 Packages [2,366 kB]\n",
            "Get:16 http://ppa.launchpad.net/c2d4u.team/c2d4u4.0+/ubuntu focal/main Sources [2,578 kB]\n",
            "Get:17 http://archive.ubuntu.com/ubuntu focal-updates/universe amd64 Packages [1,343 kB]\n",
            "Get:18 http://ppa.launchpad.net/c2d4u.team/c2d4u4.0+/ubuntu focal/main amd64 Packages [1,216 kB]\n",
            "Get:19 http://ppa.launchpad.net/graphics-drivers/ppa/ubuntu focal/main amd64 Packages [46.8 kB]\n",
            "Fetched 14.8 MB in 6s (2,496 kB/s)\n",
            "Reading package lists... Done\n",
            "Reading package lists... Done\n",
            "Building dependency tree       \n",
            "Reading state information... Done\n",
            "ffmpeg is already the newest version (7:4.2.7-0ubuntu0.1).\n",
            "The following additional packages will be installed:\n",
            "  freeglut3 libfontenc1 libxfont2 libxkbfile1 x11-xkb-utils xfonts-base\n",
            "  xfonts-encodings xfonts-utils xserver-common\n",
            "The following NEW packages will be installed:\n",
            "  freeglut3 freeglut3-dev libfontenc1 libxfont2 libxkbfile1 x11-xkb-utils\n",
            "  xfonts-base xfonts-encodings xfonts-utils xserver-common xvfb\n",
            "0 upgraded, 11 newly installed, 0 to remove and 40 not upgraded.\n",
            "Need to get 7,895 kB of archives.\n",
            "After this operation, 13.0 MB of additional disk space will be used.\n",
            "Get:1 http://archive.ubuntu.com/ubuntu focal/universe amd64 freeglut3 amd64 2.8.1-3 [73.6 kB]\n",
            "Get:2 http://archive.ubuntu.com/ubuntu focal/universe amd64 freeglut3-dev amd64 2.8.1-3 [124 kB]\n",
            "Get:3 http://archive.ubuntu.com/ubuntu focal/main amd64 libfontenc1 amd64 1:1.1.4-0ubuntu1 [14.0 kB]\n",
            "Get:4 http://archive.ubuntu.com/ubuntu focal/main amd64 libxfont2 amd64 1:2.0.3-1 [91.7 kB]\n",
            "Get:5 http://archive.ubuntu.com/ubuntu focal/main amd64 libxkbfile1 amd64 1:1.1.0-1 [65.3 kB]\n",
            "Get:6 http://archive.ubuntu.com/ubuntu focal/main amd64 x11-xkb-utils amd64 7.7+5 [158 kB]\n",
            "Get:7 http://archive.ubuntu.com/ubuntu focal/main amd64 xfonts-encodings all 1:1.0.5-0ubuntu1 [573 kB]\n",
            "Get:8 http://archive.ubuntu.com/ubuntu focal/main amd64 xfonts-utils amd64 1:7.7+6 [91.5 kB]\n",
            "Get:9 http://archive.ubuntu.com/ubuntu focal/main amd64 xfonts-base all 1:1.0.5 [5,896 kB]\n",
            "Get:10 http://archive.ubuntu.com/ubuntu focal-updates/main amd64 xserver-common all 2:1.20.13-1ubuntu1~20.04.8 [27.2 kB]\n",
            "Get:11 http://archive.ubuntu.com/ubuntu focal-updates/universe amd64 xvfb amd64 2:1.20.13-1ubuntu1~20.04.8 [780 kB]\n",
            "Fetched 7,895 kB in 2s (3,383 kB/s)\n",
            "debconf: unable to initialize frontend: Dialog\n",
            "debconf: (No usable dialog-like program is installed, so the dialog based frontend cannot be used. at /usr/share/perl5/Debconf/FrontEnd/Dialog.pm line 76, <> line 11.)\n",
            "debconf: falling back to frontend: Readline\n",
            "debconf: unable to initialize frontend: Readline\n",
            "debconf: (This frontend requires a controlling tty.)\n",
            "debconf: falling back to frontend: Teletype\n",
            "dpkg-preconfigure: unable to re-open stdin: \n",
            "Selecting previously unselected package freeglut3:amd64.\n",
            "(Reading database ... 122519 files and directories currently installed.)\n",
            "Preparing to unpack .../00-freeglut3_2.8.1-3_amd64.deb ...\n",
            "Unpacking freeglut3:amd64 (2.8.1-3) ...\n",
            "Selecting previously unselected package freeglut3-dev:amd64.\n",
            "Preparing to unpack .../01-freeglut3-dev_2.8.1-3_amd64.deb ...\n",
            "Unpacking freeglut3-dev:amd64 (2.8.1-3) ...\n",
            "Selecting previously unselected package libfontenc1:amd64.\n",
            "Preparing to unpack .../02-libfontenc1_1%3a1.1.4-0ubuntu1_amd64.deb ...\n",
            "Unpacking libfontenc1:amd64 (1:1.1.4-0ubuntu1) ...\n",
            "Selecting previously unselected package libxfont2:amd64.\n",
            "Preparing to unpack .../03-libxfont2_1%3a2.0.3-1_amd64.deb ...\n",
            "Unpacking libxfont2:amd64 (1:2.0.3-1) ...\n",
            "Selecting previously unselected package libxkbfile1:amd64.\n",
            "Preparing to unpack .../04-libxkbfile1_1%3a1.1.0-1_amd64.deb ...\n",
            "Unpacking libxkbfile1:amd64 (1:1.1.0-1) ...\n",
            "Selecting previously unselected package x11-xkb-utils.\n",
            "Preparing to unpack .../05-x11-xkb-utils_7.7+5_amd64.deb ...\n",
            "Unpacking x11-xkb-utils (7.7+5) ...\n",
            "Selecting previously unselected package xfonts-encodings.\n",
            "Preparing to unpack .../06-xfonts-encodings_1%3a1.0.5-0ubuntu1_all.deb ...\n",
            "Unpacking xfonts-encodings (1:1.0.5-0ubuntu1) ...\n",
            "Selecting previously unselected package xfonts-utils.\n",
            "Preparing to unpack .../07-xfonts-utils_1%3a7.7+6_amd64.deb ...\n",
            "Unpacking xfonts-utils (1:7.7+6) ...\n",
            "Selecting previously unselected package xfonts-base.\n",
            "Preparing to unpack .../08-xfonts-base_1%3a1.0.5_all.deb ...\n",
            "Unpacking xfonts-base (1:1.0.5) ...\n",
            "Selecting previously unselected package xserver-common.\n",
            "Preparing to unpack .../09-xserver-common_2%3a1.20.13-1ubuntu1~20.04.8_all.deb ...\n",
            "Unpacking xserver-common (2:1.20.13-1ubuntu1~20.04.8) ...\n",
            "Selecting previously unselected package xvfb.\n",
            "Preparing to unpack .../10-xvfb_2%3a1.20.13-1ubuntu1~20.04.8_amd64.deb ...\n",
            "Unpacking xvfb (2:1.20.13-1ubuntu1~20.04.8) ...\n",
            "Setting up freeglut3:amd64 (2.8.1-3) ...\n",
            "Setting up freeglut3-dev:amd64 (2.8.1-3) ...\n",
            "Setting up libfontenc1:amd64 (1:1.1.4-0ubuntu1) ...\n",
            "Setting up xfonts-encodings (1:1.0.5-0ubuntu1) ...\n",
            "Setting up libxkbfile1:amd64 (1:1.1.0-1) ...\n",
            "Setting up libxfont2:amd64 (1:2.0.3-1) ...\n",
            "Setting up x11-xkb-utils (7.7+5) ...\n",
            "Setting up xfonts-utils (1:7.7+6) ...\n",
            "Setting up xfonts-base (1:1.0.5) ...\n",
            "Setting up xserver-common (2:1.20.13-1ubuntu1~20.04.8) ...\n",
            "Setting up xvfb (2:1.20.13-1ubuntu1~20.04.8) ...\n",
            "Processing triggers for man-db (2.9.1-1) ...\n",
            "Processing triggers for fontconfig (2.13.1-2ubuntu3) ...\n",
            "Processing triggers for libc-bin (2.31-0ubuntu9.9) ...\n",
            "Looking in indexes: https://pypi.org/simple, https://us-python.pkg.dev/colab-wheels/public/simple/\n",
            "Collecting imageio==2.4.0\n",
            "  Downloading imageio-2.4.0.tar.gz (3.3 MB)\n",
            "\u001b[2K     \u001b[90m━━━━━━━━━━━━━━━━━━━━━━━━━━━━━━━━━━━━━━━━\u001b[0m \u001b[32m3.3/3.3 MB\u001b[0m \u001b[31m47.3 MB/s\u001b[0m eta \u001b[36m0:00:00\u001b[0m\n",
            "\u001b[?25h  Preparing metadata (setup.py) ... \u001b[?25l\u001b[?25hdone\n",
            "Requirement already satisfied: numpy in /usr/local/lib/python3.10/dist-packages (from imageio==2.4.0) (1.22.4)\n",
            "Requirement already satisfied: pillow in /usr/local/lib/python3.10/dist-packages (from imageio==2.4.0) (8.4.0)\n",
            "Building wheels for collected packages: imageio\n",
            "  Building wheel for imageio (setup.py) ... \u001b[?25l\u001b[?25hdone\n",
            "  Created wheel for imageio: filename=imageio-2.4.0-py3-none-any.whl size=3303893 sha256=c5058b19c1b6c03fe8942b324271e3c16f74b8820246aaaf03ac464a814ef301\n",
            "  Stored in directory: /root/.cache/pip/wheels/8a/d8/1c/eb9350a4bd3ae8e8814a2f7f9cc832fedad8ea5a926181d60d\n",
            "Successfully built imageio\n",
            "Installing collected packages: imageio\n",
            "  Attempting uninstall: imageio\n",
            "    Found existing installation: imageio 2.25.1\n",
            "    Uninstalling imageio-2.25.1:\n",
            "      Successfully uninstalled imageio-2.25.1\n",
            "\u001b[31mERROR: pip's dependency resolver does not currently take into account all the packages that are installed. This behaviour is the source of the following dependency conflicts.\n",
            "moviepy 1.0.3 requires imageio<3.0,>=2.5; python_version >= \"3.4\", but you have imageio 2.4.0 which is incompatible.\n",
            "scikit-image 0.19.3 requires imageio>=2.4.1, but you have imageio 2.4.0 which is incompatible.\u001b[0m\u001b[31m\n",
            "\u001b[0mSuccessfully installed imageio-2.4.0\n",
            "Looking in indexes: https://pypi.org/simple, https://us-python.pkg.dev/colab-wheels/public/simple/\n",
            "Collecting pyvirtualdisplay\n",
            "  Downloading PyVirtualDisplay-3.0-py3-none-any.whl (15 kB)\n",
            "Installing collected packages: pyvirtualdisplay\n",
            "Successfully installed pyvirtualdisplay-3.0\n",
            "Looking in indexes: https://pypi.org/simple, https://us-python.pkg.dev/colab-wheels/public/simple/\n",
            "Collecting tf-agents[reverb]\n",
            "  Downloading tf_agents-0.16.0-py3-none-any.whl (1.4 MB)\n",
            "\u001b[2K     \u001b[90m━━━━━━━━━━━━━━━━━━━━━━━━━━━━━━━━━━━━━━━━\u001b[0m \u001b[32m1.4/1.4 MB\u001b[0m \u001b[31m52.3 MB/s\u001b[0m eta \u001b[36m0:00:00\u001b[0m\n",
            "\u001b[?25hRequirement already satisfied: absl-py>=0.6.1 in /usr/local/lib/python3.10/dist-packages (from tf-agents[reverb]) (1.4.0)\n",
            "Requirement already satisfied: cloudpickle>=1.3 in /usr/local/lib/python3.10/dist-packages (from tf-agents[reverb]) (2.2.1)\n",
            "Requirement already satisfied: gin-config>=0.4.0 in /usr/local/lib/python3.10/dist-packages (from tf-agents[reverb]) (0.5.0)\n",
            "Collecting gym<=0.23.0,>=0.17.0 (from tf-agents[reverb])\n",
            "  Downloading gym-0.23.0.tar.gz (624 kB)\n",
            "\u001b[2K     \u001b[90m━━━━━━━━━━━━━━━━━━━━━━━━━━━━━━━━━━━━━━\u001b[0m \u001b[32m624.4/624.4 kB\u001b[0m \u001b[31m53.3 MB/s\u001b[0m eta \u001b[36m0:00:00\u001b[0m\n",
            "\u001b[?25h  Installing build dependencies ... \u001b[?25l\u001b[?25hdone\n",
            "  Getting requirements to build wheel ... \u001b[?25l\u001b[?25hdone\n",
            "  Preparing metadata (pyproject.toml) ... \u001b[?25l\u001b[?25hdone\n",
            "Requirement already satisfied: numpy>=1.19.0 in /usr/local/lib/python3.10/dist-packages (from tf-agents[reverb]) (1.22.4)\n",
            "Requirement already satisfied: pillow in /usr/local/lib/python3.10/dist-packages (from tf-agents[reverb]) (8.4.0)\n",
            "Requirement already satisfied: six>=1.10.0 in /usr/local/lib/python3.10/dist-packages (from tf-agents[reverb]) (1.16.0)\n",
            "Requirement already satisfied: protobuf>=3.11.3 in /usr/local/lib/python3.10/dist-packages (from tf-agents[reverb]) (3.20.3)\n",
            "Requirement already satisfied: wrapt>=1.11.1 in /usr/local/lib/python3.10/dist-packages (from tf-agents[reverb]) (1.14.1)\n",
            "Requirement already satisfied: typing-extensions>=3.7.4.3 in /usr/local/lib/python3.10/dist-packages (from tf-agents[reverb]) (4.5.0)\n",
            "Collecting pygame==2.1.3 (from tf-agents[reverb])\n",
            "  Downloading pygame-2.1.3-cp310-cp310-manylinux_2_17_x86_64.manylinux2014_x86_64.whl (13.7 MB)\n",
            "\u001b[2K     \u001b[90m━━━━━━━━━━━━━━━━━━━━━━━━━━━━━━━━━━━━━━━━\u001b[0m \u001b[32m13.7/13.7 MB\u001b[0m \u001b[31m67.1 MB/s\u001b[0m eta \u001b[36m0:00:00\u001b[0m\n",
            "\u001b[?25hRequirement already satisfied: tensorflow-probability~=0.19.0 in /usr/local/lib/python3.10/dist-packages (from tf-agents[reverb]) (0.19.0)\n",
            "Collecting rlds (from tf-agents[reverb])\n",
            "  Downloading rlds-0.1.8-py3-none-manylinux2010_x86_64.whl (48 kB)\n",
            "\u001b[2K     \u001b[90m━━━━━━━━━━━━━━━━━━━━━━━━━━━━━━━━━━━━━━━━\u001b[0m \u001b[32m48.4/48.4 kB\u001b[0m \u001b[31m6.2 MB/s\u001b[0m eta \u001b[36m0:00:00\u001b[0m\n",
            "\u001b[?25hCollecting dm-reverb~=0.11.0 (from tf-agents[reverb])\n",
            "  Downloading dm_reverb-0.11.0-cp310-cp310-manylinux2014_x86_64.whl (6.3 MB)\n",
            "\u001b[2K     \u001b[90m━━━━━━━━━━━━━━━━━━━━━━━━━━━━━━━━━━━━━━━━\u001b[0m \u001b[32m6.3/6.3 MB\u001b[0m \u001b[31m103.9 MB/s\u001b[0m eta \u001b[36m0:00:00\u001b[0m\n",
            "\u001b[?25hRequirement already satisfied: tensorflow~=2.12.0 in /usr/local/lib/python3.10/dist-packages (from tf-agents[reverb]) (2.12.0)\n",
            "Requirement already satisfied: dm-tree in /usr/local/lib/python3.10/dist-packages (from dm-reverb~=0.11.0->tf-agents[reverb]) (0.1.8)\n",
            "Requirement already satisfied: portpicker in /usr/local/lib/python3.10/dist-packages (from dm-reverb~=0.11.0->tf-agents[reverb]) (1.3.9)\n",
            "Requirement already satisfied: gym-notices>=0.0.4 in /usr/local/lib/python3.10/dist-packages (from gym<=0.23.0,>=0.17.0->tf-agents[reverb]) (0.0.8)\n",
            "Requirement already satisfied: astunparse>=1.6.0 in /usr/local/lib/python3.10/dist-packages (from tensorflow~=2.12.0->tf-agents[reverb]) (1.6.3)\n",
            "Requirement already satisfied: flatbuffers>=2.0 in /usr/local/lib/python3.10/dist-packages (from tensorflow~=2.12.0->tf-agents[reverb]) (23.3.3)\n",
            "Requirement already satisfied: gast<=0.4.0,>=0.2.1 in /usr/local/lib/python3.10/dist-packages (from tensorflow~=2.12.0->tf-agents[reverb]) (0.4.0)\n",
            "Requirement already satisfied: google-pasta>=0.1.1 in /usr/local/lib/python3.10/dist-packages (from tensorflow~=2.12.0->tf-agents[reverb]) (0.2.0)\n",
            "Requirement already satisfied: grpcio<2.0,>=1.24.3 in /usr/local/lib/python3.10/dist-packages (from tensorflow~=2.12.0->tf-agents[reverb]) (1.54.0)\n",
            "Requirement already satisfied: h5py>=2.9.0 in /usr/local/lib/python3.10/dist-packages (from tensorflow~=2.12.0->tf-agents[reverb]) (3.8.0)\n",
            "Requirement already satisfied: jax>=0.3.15 in /usr/local/lib/python3.10/dist-packages (from tensorflow~=2.12.0->tf-agents[reverb]) (0.4.8)\n",
            "Requirement already satisfied: keras<2.13,>=2.12.0 in /usr/local/lib/python3.10/dist-packages (from tensorflow~=2.12.0->tf-agents[reverb]) (2.12.0)\n",
            "Requirement already satisfied: libclang>=13.0.0 in /usr/local/lib/python3.10/dist-packages (from tensorflow~=2.12.0->tf-agents[reverb]) (16.0.0)\n",
            "Requirement already satisfied: opt-einsum>=2.3.2 in /usr/local/lib/python3.10/dist-packages (from tensorflow~=2.12.0->tf-agents[reverb]) (3.3.0)\n",
            "Requirement already satisfied: packaging in /usr/local/lib/python3.10/dist-packages (from tensorflow~=2.12.0->tf-agents[reverb]) (23.1)\n",
            "Requirement already satisfied: setuptools in /usr/local/lib/python3.10/dist-packages (from tensorflow~=2.12.0->tf-agents[reverb]) (67.7.2)\n",
            "Requirement already satisfied: tensorboard<2.13,>=2.12 in /usr/local/lib/python3.10/dist-packages (from tensorflow~=2.12.0->tf-agents[reverb]) (2.12.2)\n",
            "Requirement already satisfied: tensorflow-estimator<2.13,>=2.12.0 in /usr/local/lib/python3.10/dist-packages (from tensorflow~=2.12.0->tf-agents[reverb]) (2.12.0)\n",
            "Requirement already satisfied: termcolor>=1.1.0 in /usr/local/lib/python3.10/dist-packages (from tensorflow~=2.12.0->tf-agents[reverb]) (2.3.0)\n",
            "Requirement already satisfied: tensorflow-io-gcs-filesystem>=0.23.1 in /usr/local/lib/python3.10/dist-packages (from tensorflow~=2.12.0->tf-agents[reverb]) (0.32.0)\n",
            "Requirement already satisfied: decorator in /usr/local/lib/python3.10/dist-packages (from tensorflow-probability~=0.19.0->tf-agents[reverb]) (4.4.2)\n",
            "Requirement already satisfied: wheel<1.0,>=0.23.0 in /usr/local/lib/python3.10/dist-packages (from astunparse>=1.6.0->tensorflow~=2.12.0->tf-agents[reverb]) (0.40.0)\n",
            "Requirement already satisfied: ml-dtypes>=0.0.3 in /usr/local/lib/python3.10/dist-packages (from jax>=0.3.15->tensorflow~=2.12.0->tf-agents[reverb]) (0.1.0)\n",
            "Requirement already satisfied: scipy>=1.7 in /usr/local/lib/python3.10/dist-packages (from jax>=0.3.15->tensorflow~=2.12.0->tf-agents[reverb]) (1.10.1)\n",
            "Requirement already satisfied: google-auth<3,>=1.6.3 in /usr/local/lib/python3.10/dist-packages (from tensorboard<2.13,>=2.12->tensorflow~=2.12.0->tf-agents[reverb]) (2.17.3)\n",
            "Requirement already satisfied: google-auth-oauthlib<1.1,>=0.5 in /usr/local/lib/python3.10/dist-packages (from tensorboard<2.13,>=2.12->tensorflow~=2.12.0->tf-agents[reverb]) (1.0.0)\n",
            "Requirement already satisfied: markdown>=2.6.8 in /usr/local/lib/python3.10/dist-packages (from tensorboard<2.13,>=2.12->tensorflow~=2.12.0->tf-agents[reverb]) (3.4.3)\n",
            "Requirement already satisfied: requests<3,>=2.21.0 in /usr/local/lib/python3.10/dist-packages (from tensorboard<2.13,>=2.12->tensorflow~=2.12.0->tf-agents[reverb]) (2.27.1)\n",
            "Requirement already satisfied: tensorboard-data-server<0.8.0,>=0.7.0 in /usr/local/lib/python3.10/dist-packages (from tensorboard<2.13,>=2.12->tensorflow~=2.12.0->tf-agents[reverb]) (0.7.0)\n",
            "Requirement already satisfied: tensorboard-plugin-wit>=1.6.0 in /usr/local/lib/python3.10/dist-packages (from tensorboard<2.13,>=2.12->tensorflow~=2.12.0->tf-agents[reverb]) (1.8.1)\n",
            "Requirement already satisfied: werkzeug>=1.0.1 in /usr/local/lib/python3.10/dist-packages (from tensorboard<2.13,>=2.12->tensorflow~=2.12.0->tf-agents[reverb]) (2.3.0)\n",
            "Requirement already satisfied: cachetools<6.0,>=2.0.0 in /usr/local/lib/python3.10/dist-packages (from google-auth<3,>=1.6.3->tensorboard<2.13,>=2.12->tensorflow~=2.12.0->tf-agents[reverb]) (5.3.0)\n",
            "Requirement already satisfied: pyasn1-modules>=0.2.1 in /usr/local/lib/python3.10/dist-packages (from google-auth<3,>=1.6.3->tensorboard<2.13,>=2.12->tensorflow~=2.12.0->tf-agents[reverb]) (0.3.0)\n",
            "Requirement already satisfied: rsa<5,>=3.1.4 in /usr/local/lib/python3.10/dist-packages (from google-auth<3,>=1.6.3->tensorboard<2.13,>=2.12->tensorflow~=2.12.0->tf-agents[reverb]) (4.9)\n",
            "Requirement already satisfied: requests-oauthlib>=0.7.0 in /usr/local/lib/python3.10/dist-packages (from google-auth-oauthlib<1.1,>=0.5->tensorboard<2.13,>=2.12->tensorflow~=2.12.0->tf-agents[reverb]) (1.3.1)\n",
            "Requirement already satisfied: urllib3<1.27,>=1.21.1 in /usr/local/lib/python3.10/dist-packages (from requests<3,>=2.21.0->tensorboard<2.13,>=2.12->tensorflow~=2.12.0->tf-agents[reverb]) (1.26.15)\n",
            "Requirement already satisfied: certifi>=2017.4.17 in /usr/local/lib/python3.10/dist-packages (from requests<3,>=2.21.0->tensorboard<2.13,>=2.12->tensorflow~=2.12.0->tf-agents[reverb]) (2022.12.7)\n",
            "Requirement already satisfied: charset-normalizer~=2.0.0 in /usr/local/lib/python3.10/dist-packages (from requests<3,>=2.21.0->tensorboard<2.13,>=2.12->tensorflow~=2.12.0->tf-agents[reverb]) (2.0.12)\n",
            "Requirement already satisfied: idna<4,>=2.5 in /usr/local/lib/python3.10/dist-packages (from requests<3,>=2.21.0->tensorboard<2.13,>=2.12->tensorflow~=2.12.0->tf-agents[reverb]) (3.4)\n",
            "Requirement already satisfied: MarkupSafe>=2.1.1 in /usr/local/lib/python3.10/dist-packages (from werkzeug>=1.0.1->tensorboard<2.13,>=2.12->tensorflow~=2.12.0->tf-agents[reverb]) (2.1.2)\n",
            "Requirement already satisfied: pyasn1<0.6.0,>=0.4.6 in /usr/local/lib/python3.10/dist-packages (from pyasn1-modules>=0.2.1->google-auth<3,>=1.6.3->tensorboard<2.13,>=2.12->tensorflow~=2.12.0->tf-agents[reverb]) (0.5.0)\n",
            "Requirement already satisfied: oauthlib>=3.0.0 in /usr/local/lib/python3.10/dist-packages (from requests-oauthlib>=0.7.0->google-auth-oauthlib<1.1,>=0.5->tensorboard<2.13,>=2.12->tensorflow~=2.12.0->tf-agents[reverb]) (3.2.2)\n",
            "Building wheels for collected packages: gym\n",
            "  Building wheel for gym (pyproject.toml) ... \u001b[?25l\u001b[?25hdone\n",
            "  Created wheel for gym: filename=gym-0.23.0-py3-none-any.whl size=697644 sha256=0201f707eb7860c6b793481d24519b4bb30fd105704843d6b3f0d67c113b6899\n",
            "  Stored in directory: /root/.cache/pip/wheels/3d/6f/b4/3991d4fae11d0ecb0754c11cc1b4e7745012850da4efaaf0b1\n",
            "Successfully built gym\n",
            "Installing collected packages: rlds, pygame, gym, dm-reverb, tf-agents\n",
            "  Attempting uninstall: pygame\n",
            "    Found existing installation: pygame 2.3.0\n",
            "    Uninstalling pygame-2.3.0:\n",
            "      Successfully uninstalled pygame-2.3.0\n",
            "  Attempting uninstall: gym\n",
            "    Found existing installation: gym 0.25.2\n",
            "    Uninstalling gym-0.25.2:\n",
            "      Successfully uninstalled gym-0.25.2\n",
            "Successfully installed dm-reverb-0.11.0 gym-0.23.0 pygame-2.1.3 rlds-0.1.8 tf-agents-0.16.0\n",
            "Looking in indexes: https://pypi.org/simple, https://us-python.pkg.dev/colab-wheels/public/simple/\n",
            "Collecting pyglet\n",
            "  Downloading pyglet-2.0.7-py3-none-any.whl (841 kB)\n",
            "\u001b[2K     \u001b[90m━━━━━━━━━━━━━━━━━━━━━━━━━━━━━━━━━━━━━━\u001b[0m \u001b[32m841.0/841.0 kB\u001b[0m \u001b[31m44.1 MB/s\u001b[0m eta \u001b[36m0:00:00\u001b[0m\n",
            "\u001b[?25hInstalling collected packages: pyglet\n",
            "Successfully installed pyglet-2.0.7\n",
            "Looking in indexes: https://pypi.org/simple, https://us-python.pkg.dev/colab-wheels/public/simple/\n",
            "\u001b[31mERROR: Could not find a version that satisfies the requirement mdptoolbox.example (from versions: none)\u001b[0m\u001b[31m\n",
            "\u001b[0m\u001b[31mERROR: No matching distribution found for mdptoolbox.example\u001b[0m\u001b[31m\n",
            "\u001b[0m"
          ]
        }
      ],
      "source": [
        "!sudo apt-get update\n",
        "!sudo apt-get install -y xvfb ffmpeg freeglut3-dev\n",
        "!pip install 'imageio==2.4.0'\n",
        "!pip install pyvirtualdisplay\n",
        "!pip install tf-agents[reverb]\n",
        "!pip install pyglet\n",
        "!pip install mdptoolbox.example"
      ]
    },
    {
      "cell_type": "code",
      "execution_count": null,
      "metadata": {
        "id": "ic7dsFvf2dr8",
        "colab": {
          "base_uri": "https://localhost:8080/",
          "height": 116
        },
        "outputId": "8ecaeb78-a2bd-4c2a-e49e-056c7d4a6f44"
      },
      "outputs": [
        {
          "output_type": "error",
          "ename": "RuntimeError",
          "evalue": "ignored",
          "traceback": [
            "\u001b[0;31m---------------------------------------------------------------------------\u001b[0m",
            "\u001b[0;31mRuntimeError\u001b[0m                              Traceback (most recent call last)",
            "\u001b[0;31mRuntimeError\u001b[0m: module compiled against API version 0x10 but this version of numpy is 0xf"
          ]
        }
      ],
      "source": [
        "from IPython.utils.sysinfo import encoding\n",
        "import matplotlib.pyplot as plt\n",
        "import matplotlib.patches as patches\n",
        "from PIL import Image\n",
        "\n",
        "import tensorflow as tf\n",
        "import numpy as np\n",
        "import copy\n",
        "\n",
        "from tf_agents.environments import py_environment\n",
        "from tf_agents.environments import tf_environment\n",
        "from tf_agents.environments import tf_py_environment\n",
        "from tf_agents.environments import utils\n",
        "from tf_agents.specs import array_spec\n",
        "from tf_agents.environments import wrappers\n",
        "from tf_agents.environments import suite_gym\n",
        "from tf_agents.trajectories import time_step as ts\n",
        "from tensorflow.python.ops.linalg_ops import batch_matrix_solve_eager_fallback\n",
        "\n",
        "from __future__ import absolute_import, division, print_function\n",
        "\n",
        "import base64\n",
        "import imageio\n",
        "import IPython\n",
        "import matplotlib\n",
        "import matplotlib.pyplot as plt\n",
        "import numpy as np\n",
        "import PIL.Image\n",
        "import pyvirtualdisplay\n",
        "import reverb\n",
        "\n",
        "import tensorflow as tf\n",
        "\n",
        "from tf_agents.agents.dqn import dqn_agent\n",
        "from tf_agents.drivers import py_driver\n",
        "from tf_agents.environments import suite_gym\n",
        "from tf_agents.environments import tf_py_environment\n",
        "from tf_agents.eval import metric_utils\n",
        "from tf_agents.metrics import tf_metrics\n",
        "from tf_agents.networks import sequential\n",
        "from tf_agents.policies import py_tf_eager_policy\n",
        "from tf_agents.policies import random_tf_policy\n",
        "from tf_agents.replay_buffers import reverb_replay_buffer\n",
        "from tf_agents.replay_buffers import reverb_utils\n",
        "from tf_agents.trajectories import trajectory\n",
        "from tf_agents.specs import tensor_spec\n",
        "from tf_agents.utils import common\n",
        "\n",
        "import gym\n",
        "import numpy as np\n",
        "import time, pickle, os\n",
        "import random\n",
        "import matplotlib.pyplot as plt\n",
        "\n",
        "tf.compat.v1.enable_v2_behavior()"
      ]
    },
    {
      "cell_type": "code",
      "execution_count": null,
      "metadata": {
        "id": "z-Je3v1jeS0n"
      },
      "outputs": [],
      "source": [
        "# Install openmesh\n",
        "# !pip install openmesh\n",
        "\n",
        "# Visualization libraries\n",
        "import tqdm\n",
        "import matplotlib\n",
        "import matplotlib.pyplot as plt\n",
        "from matplotlib import animation, rc\n",
        "\n",
        "%matplotlib inline\n",
        "%config InlineBackend.figure_format='retina'\n",
        "\n",
        "import numpy as np\n",
        "import torch\n",
        "\n",
        "# To make code more readable: some helpful Python 3 type hints\n",
        "from typing import Callable, List, Optional, Tuple, Any, Iterable\n",
        "\n",
        "# We'll use a namedtuple to store scene information in an accessible way\n",
        "from collections import namedtuple"
      ]
    },
    {
      "cell_type": "code",
      "execution_count": null,
      "metadata": {
        "id": "pLhxSbxDpuZd"
      },
      "outputs": [],
      "source": [
        "%matplotlib inline\n",
        "import numpy as np\n",
        "from numpy.fft import fft2, ifft2, fftshift, ifftshift\n",
        "from numpy import angle, real\n",
        "from numpy import exp, abs, pi, sqrt\n",
        "import matplotlib.pyplot as plt\n",
        "import cv2\n",
        "import scipy.ndimage as ndimage\n",
        "from scipy.signal import convolve2d\n",
        "\n",
        "def imshow(im, cmap='gray'):\n",
        "    # clip image from 0-1\n",
        "    im = np.clip(im, 0, 1)\n",
        "    plt.imshow(im, cmap=cmap)"
      ]
    },
    {
      "cell_type": "markdown",
      "source": [
        "# CHANGE THESE FOR YOUR LOCAL PATHS"
      ],
      "metadata": {
        "id": "ttTjtZ3cTVDq"
      }
    },
    {
      "cell_type": "code",
      "source": [
        "from google.colab import drive\n",
        "\n",
        "# CHANGE THESE PATH VARIABLES\n",
        "drive.mount('/content/drive')\n",
        "map='/content/drive/MyDrive/forest_env.png'\n",
        "color_reduced_map='/content/drive/MyDrive/color_reduced_image.PNG'\n",
        "#map='/content/cognitive_robotics_img.PNG'\n",
        "#color_reduced_map='/content/cognitive_robotics_img.PNG'"
      ],
      "metadata": {
        "id": "n2vD9MNaS-P3"
      },
      "execution_count": null,
      "outputs": []
    },
    {
      "cell_type": "markdown",
      "source": [
        "# Environment Building"
      ],
      "metadata": {
        "id": "WESfXu16TUpz"
      }
    },
    {
      "cell_type": "code",
      "execution_count": null,
      "metadata": {
        "id": "dRw74y8vrBNN"
      },
      "outputs": [],
      "source": [
        "def img2arr(img):\n",
        "  arr = cv2.imread(img)\n",
        "  return arr\n",
        "\n",
        "def arr2img(arr, figuresize):\n",
        "  # Smaller (downsampled) image\n",
        "  plt.figure(figsize=figuresize) # for downsampling\n",
        "  plt.imshow(cv2.cvtColor(arr, cv2.COLOR_BGR2RGB))\n",
        "  plt.show()\n"
      ]
    },
    {
      "cell_type": "code",
      "execution_count": null,
      "metadata": {
        "id": "kNMk7sj_X0ze"
      },
      "outputs": [],
      "source": [
        "# https://onlinejpgtools.com/reduce-jpg-colors\n",
        "# color reducer\n",
        "color_reduced_map='/content/cognitive_robotics_img.PNG'\n",
        "color_reduced_map='/content/drive/MyDrive/color_reduced_image.PNG'\n",
        "\n",
        "color_reduced_arr = img2arr(color_reduced_map)\n",
        "h,w,_ = color_reduced_arr.shape\n",
        "resized = cv2.resize(color_reduced_arr, (75, 75), interpolation = cv2.INTER_AREA)\n",
        "thresh = np.where(resized > (np.max(resized)+np.min(resized))/2, 255, 0)\n",
        "img_float32 = np.float32(thresh)\n",
        "arr2img(img_float32, (5,5))"
      ]
    },
    {
      "cell_type": "code",
      "execution_count": null,
      "metadata": {
        "id": "CnUncd1XszqE"
      },
      "outputs": [],
      "source": [
        "# start with full observability\n",
        "\n",
        "class ForestFireEnvironment(py_environment.PyEnvironment):\n",
        "  def __init__(self, board_configuration=None, fire_seed=None, drone_location=None, person_location=None):\n",
        "    # initialize moves\n",
        "    # have board to reset to (init board)\n",
        "    # have current board\n",
        "    # have target location\n",
        "    # have curent location\n",
        "    # have fire position\n",
        "\n",
        "    # moves\n",
        "    self._action_spec = array_spec.BoundedArraySpec(\n",
        "            shape=(), dtype=np.int32, minimum=0, maximum=5000, name=\"action\")\n",
        "    self.moves = {0:(0,-1), 1:(0,1), 2:(-1,0), 3:(1,0)}\n",
        "    # board\n",
        "    self.height = board_configuration.shape[0]\n",
        "    self.width = board_configuration.shape[1]\n",
        "    self.board = np.array(copy.deepcopy(board_configuration)).flatten() # STAYS THE SAME\n",
        "    self.init_board = np.array(copy.deepcopy(board_configuration)).flatten()\n",
        "    # drone location\n",
        "    self._init_drone = self.__coord2idx(drone_location)\n",
        "    # person location\n",
        "    self._init_person = self.__coord2idx(person_location) # STAYS THE SAME\n",
        "    # fire location\n",
        "    self._init_fire = self.__coord2idx(fire_seed)\n",
        "    self.board[self._init_fire] = 3\n",
        "    self.init_board[self._init_fire] = 3\n",
        "    # states\n",
        "    self._state = np.concatenate((self.board, np.array([self._init_drone]), np.array([self._init_person])))\n",
        "    self._init_state = np.concatenate((self.init_board, np.array([self._init_drone]), np.array([self._init_person])))\n",
        "    # other\n",
        "    self._episode_ended = False\n",
        "    self.count = 0\n",
        "\n",
        "  def __idx2coord(self, idx):\n",
        "    # idx: integer\n",
        "    return (idx%self.width, idx//self.width)\n",
        "\n",
        "  def __coord2idx(self, coords):\n",
        "    # coords: tuple\n",
        "    return coords[0] + coords[1]*self.width\n",
        "\n",
        "  def _reset(self):\n",
        "    print('RESET')\n",
        "    print(self._state[-3:])\n",
        "    self.count = 0\n",
        "    self._state = np.copy(self._init_state)\n",
        "    self._episode_ended = False\n",
        "    print(self._state[-3:])\n",
        "    return ts.restart(np.array(self._state, dtype=np.int32))\n",
        "\n",
        "  def __spread_fire(self, fire_locations):\n",
        "    # fire_locations: set of coords\n",
        "\n",
        "    # find adjacent locations\n",
        "    # threshold for spreading\n",
        "    # update fire locations\n",
        "    thresh = 0.9\n",
        "    directions = [(0,1),(0,-1),(1,0),(-1,0)]\n",
        "    new_fire_locations = fire_locations.copy()\n",
        "    neighbors = set()\n",
        "    for loc in fire_locations:\n",
        "      for dir in directions:\n",
        "        new_loc = (loc[0]+dir[0],loc[1]+dir[1])\n",
        "        if self.__in_bounds(new_loc) and (new_loc not in fire_locations) and (new_loc not in neighbors):\n",
        "          neighbors.add(new_loc)\n",
        "    for neighbor in neighbors:\n",
        "      val = random.random()\n",
        "      if val > thresh:\n",
        "        new_fire_locations.add(neighbor)\n",
        "    # return coordinates\n",
        "    return new_fire_locations\n",
        "\n",
        "  def __in_bounds(self, coord):\n",
        "    # coord: tuple\n",
        "    if coord[0] >= 0 and coord[1] >= 0 and coord[1] < self.height and coord[0] < self.width:\n",
        "      return True\n",
        "    return False\n",
        "\n",
        "  def __can_move(self, drone, action, fire):\n",
        "    # drone: tuple\n",
        "    # action: tuple\n",
        "    # fire: set or tuples\n",
        "    new_loc = (drone[0]+action[0], drone[1]+action[1])\n",
        "    if self.__in_bounds(new_loc) and new_loc not in fire:\n",
        "      return True\n",
        "    return False\n",
        "\n",
        "  def __compress_board(self, fire, drone):\n",
        "    # fire: set of integers\n",
        "    # drone: integer\n",
        "\n",
        "    # copy init board, no fire no person\n",
        "    new_board = np.copy(self.init_board)\n",
        "    # add fire\n",
        "    for pos in fire:\n",
        "      posidx = self.__coord2idx(pos)\n",
        "      new_board[posidx] = 3\n",
        "    droneidx = self.__coord2idx(drone)\n",
        "    new_board = np.concatenate((new_board, np.array([droneidx]), np.array([self._init_person])))\n",
        "    return new_board\n",
        "\n",
        "  def __extract_board(self):\n",
        "    # USING FLATTENDED BOARD WITH STUFF AT END\n",
        "    # get fire\n",
        "    # get person\n",
        "    fire_locations = set()\n",
        "    for i, pos in enumerate(self._state):\n",
        "      if pos == 3 and i < self.width*self.height: # fire\n",
        "        fire_locations.add(i)\n",
        "    drone_location = self._state[-2] \n",
        "    # returns indicies\n",
        "    return fire_locations, drone_location\n",
        "    \n",
        "  def _step(self, action):\n",
        "    action = self.moves[action]\n",
        "    fire, drone = self.__extract_board()\n",
        "    fire = {self.__idx2coord(idx) for idx in fire}\n",
        "    drone = self.__idx2coord(drone)\n",
        "    self.count += 1\n",
        "    if self._episode_ended: # if goal reached\n",
        "        return self.reset()\n",
        "    if self.count >= 10000:\n",
        "      self._episode_ended = True\n",
        "      return ts.termination(np.array(self._state, dtype=np.int32), reward=0)\n",
        "    elif self.__can_move(drone, action, fire): # if a valid move\n",
        "      new_loc = (drone[0]+action[0], drone[1]+action[1])\n",
        "      if new_loc == self._init_person: # found goal\n",
        "        self._episode_ended = True\n",
        "        return ts.termination(np.array(self._state, dtype=np.int32), reward=100)\n",
        "      else: # moved\n",
        "        drone = new_loc\n",
        "        fire = self.__spread_fire(fire)\n",
        "        self._state = self.__compress_board(fire, drone)\n",
        "        return ts.transition(np.array(self._state, dtype=np.int32), reward=-1)\n",
        "    else:\n",
        "      self._episode_ended = True\n",
        "      return ts.termination(np.array(self._state, dtype=np.int32), reward=-100)\n",
        "\n",
        "  def _current_time_step(self):\n",
        "    return self.current_time_step()\n",
        "\n",
        "  def getBoard(self):\n",
        "    return self.board\n",
        "\n",
        "  def action_spec(self):\n",
        "    return self._action_spec # 0,1,2,3 correspond to directions in moves\n",
        "\n",
        "  def observation_spec(self):\n",
        "    return self._observation_spec"
      ]
    },
    {
      "cell_type": "code",
      "execution_count": null,
      "metadata": {
        "id": "Nw1Z_TCyqJjR"
      },
      "outputs": [],
      "source": [
        "map = (img_float32[:,:,0] > 5).astype(int)\n",
        "test_map = map[:15,:15]\n",
        "fire_seed = (1,1)\n",
        "drone_location = (5,5)\n",
        "person_location = (13,13)\n",
        "env = ForestFireEnvironment(board_configuration=test_map, fire_seed=fire_seed, drone_location=drone_location, person_location=person_location)"
      ]
    },
    {
      "cell_type": "code",
      "execution_count": null,
      "metadata": {
        "colab": {
          "base_uri": "https://localhost:8080/"
        },
        "id": "IptdM3Aw-2ip",
        "outputId": "f3d8366d-be00-4bbf-b937-ef45b924243b"
      },
      "outputs": [
        {
          "output_type": "execute_result",
          "data": {
            "text/plain": [
              "TimeStep(\n",
              "{'discount': array(1., dtype=float32),\n",
              " 'observation': array([  0,   0,   0,   0,   0,   0,   0,   0,   0,   0,   0,   0,   0,\n",
              "         0,   0,   0,   3,   0,   0,   0,   0,   0,   0,   0,   0,   0,\n",
              "         0,   0,   0,   0,   0,   0,   0,   0,   0,   0,   0,   0,   0,\n",
              "         0,   0,   0,   0,   0,   0,   0,   0,   0,   0,   0,   0,   0,\n",
              "         0,   0,   0,   0,   0,   0,   0,   0,   0,   0,   0,   0,   0,\n",
              "         0,   0,   0,   0,   0,   0,   0,   0,   0,   0,   0,   0,   0,\n",
              "         0,   0,   0,   0,   0,   0,   0,   0,   0,   0,   0,   0,   0,\n",
              "         0,   0,   0,   0,   0,   0,   0,   0,   0,   0,   0,   0,   0,\n",
              "         0,   0,   0,   0,   0,   0,   0,   0,   0,   0,   0,   0,   0,\n",
              "         0,   0,   0,   0,   0,   0,   0,   0,   0,   0,   0,   0,   0,\n",
              "         0,   0,   0,   0,   0,   0,   0,   0,   0,   0,   0,   0,   0,\n",
              "         0,   0,   0,   0,   0,   0,   0,   0,   0,   0,   0,   0,   0,\n",
              "         0,   0,   0,   0,   0,   0,   0,   0,   0,   0,   0,   0,   0,\n",
              "         0,   0,   0,   0,   0,   0,   0,   0,   1,   0,   0,   0,   0,\n",
              "         0,   0,   0,   0,   0,   0,   0,   0,   0,   1,   1,   0,   0,\n",
              "         0,   0,   0,   0,   0,   0,   0,   0,   0,   0,   0,   1,   1,\n",
              "         0,   0,   0,   0,   0,   0,   0,   0,   0,   0,   0,   0,   0,\n",
              "         0,   1,   0,   0,  80, 208], dtype=int32),\n",
              " 'reward': array(-1., dtype=float32),\n",
              " 'step_type': array(1, dtype=int32)})"
            ]
          },
          "metadata": {},
          "execution_count": 14
        }
      ],
      "source": [
        "env._state\n",
        "obervation_first = env._step(2).observation\n",
        "env._ForestFireEnvironment__extract_board()[0]\n",
        "env._step(3)"
      ]
    },
    {
      "cell_type": "code",
      "execution_count": null,
      "metadata": {
        "id": "fg87QRs4L7ed"
      },
      "outputs": [],
      "source": [
        "def redo_board(observation):\n",
        "  # 0 = black (0,0,0)\n",
        "  # 1 = white (255,255,255)\n",
        "  # 3 = fire = red (255,0,0)\n",
        "  # drone = blue (0,0,255)\n",
        "  # person = green (0,255,0)\n",
        "  colors = {0:np.array([0,0,0]), 1:np.array([225,225,225]), 3:np.array([255,0,0])}\n",
        "  board_size = len(observation)-2\n",
        "  image = np.zeros((board_size, 3))\n",
        "  for i in range(board_size):\n",
        "    image[i,:] = colors[observation[i]]\n",
        "  image[observation[-2],:] = np.array([0,0,255])\n",
        "  image[observation[-1],:] = np.array([0,225,0])\n",
        "\n",
        "  image = image.reshape(int(board_size**0.5), int(board_size**0.5), 3)\n",
        "  return image\n",
        "  #ax.imshow(image)\n",
        "  axis_image = ax.imshow(image)\n",
        "  return axis_image"
      ]
    },
    {
      "cell_type": "code",
      "execution_count": null,
      "metadata": {
        "id": "IxJY9lA2gSeS"
      },
      "outputs": [],
      "source": [
        "def show_board(observation, ax=plt, frames_changed=True):\n",
        "  # 0 = black (0,0,0)\n",
        "  # 1 = white (255,255,255)\n",
        "  # 3 = fire = red (255,0,0)\n",
        "  # drone = blue (0,0,255)\n",
        "  # person = green (0,255,0)\n",
        "  image = observation\n",
        "  if frames_changed == False:\n",
        "    image = redo_board(observation)\n",
        "  axis_image = ax.imshow(image)\n",
        "  return axis_image"
      ]
    },
    {
      "cell_type": "code",
      "execution_count": null,
      "metadata": {
        "colab": {
          "base_uri": "https://localhost:8080/",
          "height": 466
        },
        "id": "8GsstlxMb3SL",
        "outputId": "233bcd5a-ff95-4a71-f78e-b127b59c7241"
      },
      "outputs": [
        {
          "output_type": "stream",
          "name": "stderr",
          "text": [
            "WARNING:matplotlib.image:Clipping input data to the valid range for imshow with RGB data ([0..1] for floats or [0..255] for integers).\n"
          ]
        },
        {
          "output_type": "execute_result",
          "data": {
            "text/plain": [
              "<matplotlib.image.AxesImage at 0x7fda47a6ece0>"
            ]
          },
          "metadata": {},
          "execution_count": 15
        },
        {
          "output_type": "display_data",
          "data": {
            "text/plain": [
              "<Figure size 640x480 with 1 Axes>"
            ],
            "image/png": "[encoded data removed]"
          },
          "metadata": {
            "image/png": {
              "width": 417,
              "height": 413
            }
          }
        }
      ],
      "source": [
        "show_board(obervation_first, frames_changed=False)"
      ]
    },
    {
      "cell_type": "code",
      "execution_count": null,
      "metadata": {
        "id": "xgYHivnnLRYF"
      },
      "outputs": [],
      "source": [
        "# Animation wrapper to make it easy to display a series of frames in colab\n",
        "class AnimationWrapper():\n",
        "    def __init__(self, rows, cols, frames, figsize=(8, 6)):\n",
        "        self.rows, self.cols = rows, cols\n",
        "        self.frames = frames\n",
        "        for i in range(len(frames)):\n",
        "          self.frames[i][0] = redo_board(frames[i][0])\n",
        "          \n",
        "        \n",
        "        self.fig = plt.figure(figsize=figsize)\n",
        "        self.axes = []\n",
        "        self.axis_images = []\n",
        "        self.data = []\n",
        "        self.pbar = None\n",
        "        for r in range(rows):\n",
        "            for c in range(cols):\n",
        "                ax = plt.subplot(rows, cols, r * cols + c + 1)\n",
        "                img = show_board(frames[0][r * cols + c], ax=ax)\n",
        "                \n",
        "                self.axes.append(ax)\n",
        "                self.axis_images.append(img)\n",
        "                self.data.append([])\n",
        "        plt.close()\n",
        "        \n",
        "        # Set maximal limit to 100 MB, default is 20 MB\n",
        "        matplotlib.rcParams['animation.embed_limit'] = 100\n",
        "    \n",
        "    def get_axes(self):\n",
        "        return self.axes\n",
        "    \n",
        "    def animate(self, i):\n",
        "        self.pbar.update(1)\n",
        "            \n",
        "        for ax_id in range(len(self.axis_images)):\n",
        "            frame = self.frames[i][ax_id]\n",
        "            if len(frame.shape) == 3:\n",
        "                self.axis_images[ax_id].set_data(frame[:,:,:])\n",
        "            else:\n",
        "                depth = frame.copy()\n",
        "                depth[np.isnan(depth)] = depth[~np.isnan(depth)].min()\n",
        "                self.axis_images[ax_id].set_data(depth)\n",
        "                self.axis_images[ax_id].set_clim(depth.min(), depth.max())\n",
        "        return tuple(self.axis_images)\n",
        "    \n",
        "    def generate(self):\n",
        "        self.pbar = tqdm.tqdm(total = len(self.frames), position=0, leave=True, desc=\"Building animation... \")\n",
        "        self.anim = animation.FuncAnimation(self.fig, self.animate, frames=len(self.frames), interval=100, blit=True)\n",
        "        \n",
        "        # Note: below is the part which makes it work on Colab\n",
        "        rc('animation', html='jshtml')"
      ]
    },
    {
      "cell_type": "code",
      "source": [
        "map = (img_float32[:,:,0] > 5).astype(int)\n",
        "test_map = map\n",
        "fire_seed = (1,1)\n",
        "drone_location = (5,5)\n",
        "person_location = (13,13)\n",
        "env = ForestFireEnvironment(board_configuration=test_map, fire_seed=fire_seed, drone_location=drone_location, person_location=person_location)"
      ],
      "metadata": {
        "id": "mAqYsARv1dOe"
      },
      "execution_count": null,
      "outputs": []
    },
    {
      "cell_type": "code",
      "execution_count": null,
      "metadata": {
        "id": "qs0lGQgeLhF9"
      },
      "outputs": [],
      "source": [
        "observes = []\n",
        "for i in range(100):\n",
        "  curr_dir = random.randint(0,3)\n",
        "  curr = env._step(curr_dir)\n",
        "  curr_observe = curr.observation\n",
        "  #print(len(curr_observe))\n",
        "  observes.append([curr_observe])\n",
        "path_animation = AnimationWrapper(rows=1, cols=1, frames=observes)\n",
        "path_animation.generate()\n",
        "path_animation.anim"
      ]
    },
    {
      "cell_type": "code",
      "source": [
        "map = (img_float32[:,:,0] > 5).astype(int)\n",
        "test_map = map[:15][-15:]\n",
        "print(test_map.flatten().shape)\n",
        "fire_seed = (1,1)\n",
        "drone_location = (5,5)\n",
        "person_location = (13,13)\n",
        "env = ForestFireEnvironment(board_configuration=test_map, fire_seed=fire_seed, drone_location=drone_location, person_location=person_location)"
      ],
      "metadata": {
        "colab": {
          "base_uri": "https://localhost:8080/"
        },
        "id": "cQJnulO6rtFv",
        "outputId": "3313843c-1fc0-4a7f-f95d-688687355970"
      },
      "execution_count": null,
      "outputs": [
        {
          "output_type": "stream",
          "name": "stdout",
          "text": [
            "(5625,)\n"
          ]
        }
      ]
    },
    {
      "cell_type": "code",
      "source": [
        "# STARTING POINT\n",
        "observes = []\n",
        "actions = [1, 1, 3, 3, 3, 3, 1, 1, 1, 0, 1, 1, 0, 1, 0, 0, 1, 0, 1, 0, 0, 1, 0, 1, 0, 1, 0, 0, 1, 0, 0, 1, 0, 1, 0, 1, 1, 0, 0, 3, 3, 3, 3, 3, 3]\n",
        "for curr_dir in actions:\n",
        "  curr = env._step(curr_dir)\n",
        "  curr_observe = curr.observation\n",
        "  #print(len(curr_observe))\n",
        "  observes.append([curr_observe])\n",
        "path_animation = AnimationWrapper(rows=1, cols=1, frames=observes)\n",
        "path_animation.generate()\n",
        "path_animation.anim"
      ],
      "metadata": {
        "id": "OmYU6OYKqoT4"
      },
      "execution_count": null,
      "outputs": []
    },
    {
      "cell_type": "code",
      "source": [
        "map = (img_float32[:,:,0] > 5).astype(int)\n",
        "test_map = map[:15,:15]\n",
        "fire_seed = (1,1)\n",
        "drone_location = (5,5)\n",
        "person_location = (13,13)\n",
        "env = ForestFireEnvironment(board_configuration=test_map, fire_seed=fire_seed, drone_location=drone_location, person_location=person_location)"
      ],
      "metadata": {
        "id": "L2s_X2Pk_Mja"
      },
      "execution_count": null,
      "outputs": []
    },
    {
      "cell_type": "markdown",
      "source": [
        "# Q Learning"
      ],
      "metadata": {
        "id": "gZXofcyzTrrg"
      }
    },
    {
      "cell_type": "code",
      "execution_count": null,
      "metadata": {
        "id": "J_Ch72rVn2KN"
      },
      "outputs": [],
      "source": [
        "# General Q Network\n",
        "\n",
        "epsilon = 0.6 #0.9\n",
        "total_episodes = 1000\n",
        "max_steps = 1000\n",
        "lr_rate = 0.81\n",
        "gamma = 0.9\n",
        "Q = np.zeros((15*15, 4))\n",
        "    \n",
        "def choose_action(state):\n",
        "    action=0\n",
        "    if np.random.uniform(0, 1) < epsilon:\n",
        "        action = random.randint(0,3)\n",
        "    else:\n",
        "        action = np.argmax(Q[state, :])\n",
        "    return action\n",
        "\n",
        "def learn(state, state2, reward, action):\n",
        "    ''' The learning function of Q-learning. \n",
        "        state: The initial state of the agent \n",
        "        state2: The next state of the agent\n",
        "        action: The action the transitions the agent from state to state 2\n",
        "        reward: The reward earned from the transition for state to state 2\n",
        "        returns: None\n",
        "    '''\n",
        "    predict = Q[state, action]\n",
        "    target = reward + gamma * np.max(Q[state2, :])\n",
        "    Q[state, action] = Q[state, action] + lr_rate * (target - predict)\n",
        "    \n",
        "\n",
        "for episode in range(total_episodes):\n",
        "    #state = np.where(env._init_state == 3)[0][0]\n",
        "    state = env._init_state[-2]\n",
        "    t = 0\n",
        "    print(\"Episode: \",episode)\n",
        "    while t < max_steps:\n",
        "        #print(\"Timestep: \",t)\n",
        "        action = choose_action(state)\n",
        "        timestep = env.step(action)\n",
        "        observe = timestep.observation\n",
        "        #state2 = np.where(observe == 3)[0][0]\n",
        "        state2 = observe[-2]\n",
        "        reward = timestep.reward\n",
        "        done = env._episode_ended\n",
        "        learn(state, state2, reward, action)\n",
        "        state = state2\n",
        "        t += 1\n",
        "        if done:\n",
        "            break"
      ]
    },
    {
      "cell_type": "code",
      "execution_count": null,
      "metadata": {
        "colab": {
          "base_uri": "https://localhost:8080/"
        },
        "id": "7KPj-hrFvRxb",
        "outputId": "f8961ed8-089e-420c-e352-5b2cd57e8d4e"
      },
      "outputs": [
        {
          "output_type": "stream",
          "name": "stdout",
          "text": [
            "[[0 0 3 3 2 3 2 1 1 3 1 1 3 2 2]\n",
            " [0 0 0 1 3 3 3 1 2 1 1 1 3 0 1]\n",
            " [0 3 2 3 0 3 3 1 3 0 1 1 0 3 2]\n",
            " [1 1 1 3 1 3 3 0 3 0 2 1 0 0 0]\n",
            " [1 1 2 1 0 1 1 0 3 0 1 3 0 3 1]\n",
            " [1 2 2 2 3 3 2 0 3 3 1 0 2 0 1]\n",
            " [0 0 3 1 3 0 2 3 3 1 3 1 2 1 0]\n",
            " [1 1 1 1 2 0 2 3 3 1 3 1 3 0 1]\n",
            " [1 2 1 1 3 1 3 3 3 1 1 1 1 3 1]\n",
            " [1 1 1 2 1 1 2 1 3 2 3 2 1 1 1]\n",
            " [1 1 2 1 1 1 1 1 1 1 2 0 3 3 2]\n",
            " [1 1 1 3 1 1 3 1 2 1 3 1 3 3 0]\n",
            " [3 1 2 1 1 1 3 3 3 3 3 1 3 3 0]\n",
            " [1 2 3 0 2 3 3 3 0 3 3 1 1 0 2]\n",
            " [0 3 2 3 0 2 3 3 0 0 3 2 2 2 2]]\n"
          ]
        }
      ],
      "source": [
        "Q_directions = np.argmax(Q, axis=1).reshape(15,15)\n",
        "print(Q_directions)"
      ]
    },
    {
      "cell_type": "code",
      "execution_count": null,
      "metadata": {
        "colab": {
          "base_uri": "https://localhost:8080/",
          "height": 430
        },
        "id": "CvLxZ-O_vUAl",
        "outputId": "d884a889-e4d0-47da-c144-f49da9d44fd8"
      },
      "outputs": [
        {
          "output_type": "display_data",
          "data": {
            "text/plain": [
              "<Figure size 640x480 with 1 Axes>"
            ],
            "image/png": "[encoded data removed]"
          },
          "metadata": {
            "image/png": {
              "width": 417,
              "height": 413
            }
          }
        }
      ],
      "source": [
        "plt.imshow(Q_directions, cmap='hot', interpolation='nearest')\n",
        "plt.show()"
      ]
    },
    {
      "cell_type": "markdown",
      "source": [
        "# No animation for this one"
      ],
      "metadata": {
        "id": "olC8rSVUSrHe"
      }
    },
    {
      "cell_type": "code",
      "source": [],
      "metadata": {
        "id": "tujGfhflUoH4"
      },
      "execution_count": null,
      "outputs": []
    }
  ],
  "metadata": {
    "colab": {
      "provenance": [],
      "machine_shape": "hm",
      "gpuType": "T4"
    },
    "kernelspec": {
      "display_name": "Python 3",
      "name": "python3"
    },
    "language_info": {
      "name": "python"
    },
    "gpuClass": "standard",
    "accelerator": "GPU"
  },
  "nbformat": 4,
  "nbformat_minor": 0
}